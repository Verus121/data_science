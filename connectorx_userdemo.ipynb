{
 "cells": [
  {
   "cell_type": "markdown",
   "id": "9c6850e6",
   "metadata": {},
   "source": [
    "# Connector-X User Demo\n",
    "\n",
    "Shows how users can use dataprep connector."
   ]
  },
  {
   "cell_type": "code",
   "execution_count": null,
   "id": "2b94970a",
   "metadata": {},
   "outputs": [],
   "source": [
    "!pip install dataprep"
   ]
  },
  {
   "cell_type": "code",
   "execution_count": null,
   "id": "48ac43a0",
   "metadata": {},
   "outputs": [],
   "source": [
    "from dataprep.connector import connect\n",
    "conn = connect(\"dblp\")"
   ]
  },
  {
   "cell_type": "code",
   "execution_count": null,
   "id": "09ce2572",
   "metadata": {},
   "outputs": [],
   "source": [
    "conn.info()"
   ]
  },
  {
   "cell_type": "code",
   "execution_count": null,
   "id": "5dbe9a7f",
   "metadata": {},
   "outputs": [],
   "source": [
    "await conn.query(\"publication\", q=\"CVPR 2020\")"
   ]
  },
  {
   "cell_type": "code",
   "execution_count": null,
   "id": "37e5c999",
   "metadata": {},
   "outputs": [],
   "source": []
  }
 ],
 "metadata": {
  "kernelspec": {
   "display_name": "Python 3 (ipykernel)",
   "language": "python",
   "name": "python3"
  },
  "language_info": {
   "codemirror_mode": {
    "name": "ipython",
    "version": 3
   },
   "file_extension": ".py",
   "mimetype": "text/x-python",
   "name": "python",
   "nbconvert_exporter": "python",
   "pygments_lexer": "ipython3",
   "version": "3.8.10"
  }
 },
 "nbformat": 4,
 "nbformat_minor": 5
}
