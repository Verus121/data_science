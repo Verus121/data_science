{
 "cells": [
  {
   "cell_type": "markdown",
   "id": "72c4f00c",
   "metadata": {},
   "source": [
    "# Jupyter Notebook and IPython  "
   ]
  },
  {
   "cell_type": "markdown",
   "id": "fdbb9b5b",
   "metadata": {},
   "source": [
    "## What is Jupyter Notebook and IPython?  \n",
    "\n",
    "IPython is a python interpreter, which supports the idea of “execute and explore” programming compared to “edit-compile-run” programming.  \n",
    "\n",
    "Jupyter Notebook is a Computational Notebook that support interactive data science and scientific computing, on various languages. It was originally made just for Python, using the IPython Kernal, and was called the IPython Notebook.  \n",
    "\n",
    "Learn [IPython](https://ipython.readthedocs.io/en/stable/interactive/index.html)  \n",
    "Learn [Jupyter Notebook](https://jupyter-notebook.readthedocs.io/en/latest/index.html)  "
   ]
  },
  {
   "cell_type": "markdown",
   "id": "a81a3579",
   "metadata": {},
   "source": [
    "## Jupyter Notebook Keyboard Shortcuts  "
   ]
  },
  {
   "cell_type": "markdown",
   "id": "95267840",
   "metadata": {},
   "source": [
    "### Cell Commands \n",
    "\n",
    "Command mode: `Esc`.  <br>\n",
    "In command mode, you can navigate around the notebook using keyboard shortcuts.    \n",
    "\n",
    "Edit mode: `Enter`.  <br>\n",
    "In edit mode, you can edit text in cells.  \n",
    "\n",
    "Run cell: `shift-enter`.  <br>\n",
    "Execute the current cell, show any output, and jump to the next cell below.  "
   ]
  },
  {
   "cell_type": "markdown",
   "id": "d860b62a",
   "metadata": {},
   "source": [
    "### Command Mode Keyboard Shortcuts\n",
    "\n",
    "Change cell type to Markdown `M`  \n",
    "Change cell type to Code `Y`  \n",
    "\n",
    "Navigation: Arrow Keys while in Command Mode.  <br>\n",
    "Insert cell above `a` and below `b`.  <br>\n",
    "Move Cell: cut `x`, copy `c` and paste `v`.   <br>\n",
    "Delete Cell: double tap `d`.  "
   ]
  },
  {
   "cell_type": "markdown",
   "id": "cfd38c08",
   "metadata": {},
   "source": [
    "### Others \n",
    "\n",
    "Kernel   \n",
    "Interrupt a process with double tap `i`, restart with double tap `0`.  \n",
    "\n",
    "Save is standard `ctrl-s`  "
   ]
  },
  {
   "cell_type": "code",
   "execution_count": null,
   "id": "d930b14d",
   "metadata": {},
   "outputs": [],
   "source": [
    "print('hello, world!')"
   ]
  },
  {
   "cell_type": "code",
   "execution_count": null,
   "id": "d8fcd0af",
   "metadata": {},
   "outputs": [],
   "source": [
    "data = {i for i in range(7)}\n",
    "data # writing out a variable prints it."
   ]
  },
  {
   "cell_type": "markdown",
   "id": "c91a51ea",
   "metadata": {},
   "source": [
    "## IPython"
   ]
  },
  {
   "cell_type": "markdown",
   "id": "17db838c",
   "metadata": {},
   "source": [
    "### Tab Completion\n",
    "Tab completion, especially for attributes, is a convenient way to explore the structure of any object you’re dealing with. Simply type `object_name.<TAB>` to view the object’s attributes.\n",
    "\n",
    "You can also just press tab everywhere and see if you get a result."
   ]
  },
  {
   "cell_type": "code",
   "execution_count": null,
   "id": "09d43b8a",
   "metadata": {},
   "outputs": [],
   "source": [
    "data. # Put your cursor after the dot and press tab."
   ]
  },
  {
   "cell_type": "markdown",
   "id": "d54ee5ae",
   "metadata": {},
   "source": [
    "### Introspection\n",
    "Typing `object_name?` will print all sorts of details about any object"
   ]
  },
  {
   "cell_type": "code",
   "execution_count": null,
   "id": "f031c5c9",
   "metadata": {},
   "outputs": [],
   "source": [
    "data?"
   ]
  },
  {
   "cell_type": "markdown",
   "id": "d329d913",
   "metadata": {},
   "source": [
    "### Magic\n",
    "IPython has a set of predefined ‘magic functions’ that you can call with a command line style syntax. There are two kinds of magics, line-oriented and cell-oriented. \n",
    "\n",
    "Line magics are prefixed with the % character and work much like OS command-line calls: they get as an argument the rest of the line, where arguments are passed without parentheses or quotes. Lines magics can return results and can be used in the right hand side of an assignment.\n",
    "\n",
    "Cell magics are prefixed with a double %%, and they are functions that get as an argument not only the rest of the line, but also the lines below it in a separate argument."
   ]
  },
  {
   "cell_type": "code",
   "execution_count": null,
   "id": "dcdb3e36",
   "metadata": {},
   "outputs": [],
   "source": [
    "%lsmagic"
   ]
  },
  {
   "cell_type": "markdown",
   "id": "7cbb1efc",
   "metadata": {},
   "source": [
    "### Run Magic\n",
    "\n",
    "A `.py` can be run inside the IPython environment using `%run filename`. All variables defined in the file will be accessible. \n",
    "\n",
    "This can be used if you have a large python file with many functions that you wouldn't want to write in a notebook, but it displays some matplotlib graphs and maybe produces a dictionary or data that we might want to manipulate in the notebook.\n",
    "\n",
    "`%run program.py`"
   ]
  },
  {
   "cell_type": "markdown",
   "id": "ffd9eefe",
   "metadata": {},
   "source": [
    "### Timing Code\n",
    "\n",
    "`%time` reports the time of one statement.\n",
    "\n",
    "`%timeit` reports the average runtime of a statement."
   ]
  },
  {
   "cell_type": "code",
   "execution_count": null,
   "id": "83bed255",
   "metadata": {},
   "outputs": [],
   "source": [
    "strings = [\"foo\", \"foobar\", \"baz\", \"qux\", \"python\", \"Guido Van Rossum\"] * 100000\n",
    "\n",
    "%time method1 = [x for x in strings if x.startswith('foo')]\n",
    "%time method2 = [x for x in strings if x[:3] == 'foo']"
   ]
  },
  {
   "cell_type": "code",
   "execution_count": null,
   "id": "f660fc6b",
   "metadata": {},
   "outputs": [],
   "source": [
    "%timeit method1 = [x for x in strings if x.startswith('foo')]\n",
    "%timeit method2 = [x for x in strings if x[:3] == 'foo']"
   ]
  }
 ],
 "metadata": {
  "kernelspec": {
   "display_name": "Python 3 (ipykernel)",
   "language": "python",
   "name": "python3"
  },
  "language_info": {
   "codemirror_mode": {
    "name": "ipython",
    "version": 3
   },
   "file_extension": ".py",
   "mimetype": "text/x-python",
   "name": "python",
   "nbconvert_exporter": "python",
   "pygments_lexer": "ipython3",
   "version": "3.8.10"
  }
 },
 "nbformat": 4,
 "nbformat_minor": 5
}
