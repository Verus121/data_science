{
 "cells": [
  {
   "cell_type": "markdown",
   "id": "9a07f217",
   "metadata": {},
   "source": [
    "https://pandas.pydata.org/docs/getting_started/intro_tutorials/01_table_oriented.html"
   ]
  },
  {
   "cell_type": "code",
   "execution_count": 2,
   "id": "641858f7",
   "metadata": {},
   "outputs": [
    {
     "data": {
      "text/plain": [
       "'1.3.5'"
      ]
     },
     "execution_count": 2,
     "metadata": {},
     "output_type": "execute_result"
    }
   ],
   "source": [
    "import pandas\n",
    "pd.__version__"
   ]
  },
  {
   "cell_type": "markdown",
   "id": "2c4d38e5",
   "metadata": {},
   "source": [
    "To manually store data in a table, create a DataFrame.\n",
    "A DataFrame is a 2-dimensional data structure that can store data of different types (including characters, integers, floating point values, categorical data and more) in columns. It is similar to a spreadsheet, a SQL table or the data.frame in R."
   ]
  },
  {
   "cell_type": "code",
   "execution_count": 7,
   "id": "1e7d0813",
   "metadata": {},
   "outputs": [],
   "source": [
    "titanic_passengers_dictionary = {\n",
    "    \"Name\": [\n",
    "        \"Braund, Mr. Owen Harris\",\n",
    "        \"Allen, Mr. William Henry\",\n",
    "        \"Bonnell, Miss. Elizabeth\",\n",
    "    ],\n",
    "    \"Age\": [22, 35, 58],\n",
    "    \"Sex\": [\"male\", \"male\", \"female\"],\n",
    "}\n",
    "\n",
    "titanic_passengers_dataframe = pandas.DataFrame(titanic_passengers_dictionary)"
   ]
  },
  {
   "cell_type": "markdown",
   "id": "81e3c06e",
   "metadata": {},
   "source": [
    "When selecting a single column of a pandas DataFrame, the result is a pandas Series."
   ]
  },
  {
   "cell_type": "code",
   "execution_count": 9,
   "id": "5814c6fa",
   "metadata": {
    "scrolled": true
   },
   "outputs": [
    {
     "data": {
      "text/plain": [
       "0     Braund, Mr. Owen Harris\n",
       "1    Allen, Mr. William Henry\n",
       "2    Bonnell, Miss. Elizabeth\n",
       "Name: Name, dtype: object"
      ]
     },
     "execution_count": 9,
     "metadata": {},
     "output_type": "execute_result"
    }
   ],
   "source": [
    "titanic_passengers_dataframe[\"Name\"]"
   ]
  },
  {
   "cell_type": "code",
   "execution_count": 10,
   "id": "af14d640",
   "metadata": {},
   "outputs": [
    {
     "data": {
      "text/plain": [
       "58"
      ]
     },
     "execution_count": 10,
     "metadata": {},
     "output_type": "execute_result"
    }
   ],
   "source": [
    "titanic_passengers_dataframe[\"Age\"].max()"
   ]
  },
  {
   "cell_type": "code",
   "execution_count": 11,
   "id": "03eb3ced",
   "metadata": {},
   "outputs": [
    {
     "data": {
      "text/html": [
       "<div>\n",
       "<style scoped>\n",
       "    .dataframe tbody tr th:only-of-type {\n",
       "        vertical-align: middle;\n",
       "    }\n",
       "\n",
       "    .dataframe tbody tr th {\n",
       "        vertical-align: top;\n",
       "    }\n",
       "\n",
       "    .dataframe thead th {\n",
       "        text-align: right;\n",
       "    }\n",
       "</style>\n",
       "<table border=\"1\" class=\"dataframe\">\n",
       "  <thead>\n",
       "    <tr style=\"text-align: right;\">\n",
       "      <th></th>\n",
       "      <th>Age</th>\n",
       "    </tr>\n",
       "  </thead>\n",
       "  <tbody>\n",
       "    <tr>\n",
       "      <th>count</th>\n",
       "      <td>3.000000</td>\n",
       "    </tr>\n",
       "    <tr>\n",
       "      <th>mean</th>\n",
       "      <td>38.333333</td>\n",
       "    </tr>\n",
       "    <tr>\n",
       "      <th>std</th>\n",
       "      <td>18.230012</td>\n",
       "    </tr>\n",
       "    <tr>\n",
       "      <th>min</th>\n",
       "      <td>22.000000</td>\n",
       "    </tr>\n",
       "    <tr>\n",
       "      <th>25%</th>\n",
       "      <td>28.500000</td>\n",
       "    </tr>\n",
       "    <tr>\n",
       "      <th>50%</th>\n",
       "      <td>35.000000</td>\n",
       "    </tr>\n",
       "    <tr>\n",
       "      <th>75%</th>\n",
       "      <td>46.500000</td>\n",
       "    </tr>\n",
       "    <tr>\n",
       "      <th>max</th>\n",
       "      <td>58.000000</td>\n",
       "    </tr>\n",
       "  </tbody>\n",
       "</table>\n",
       "</div>"
      ],
      "text/plain": [
       "             Age\n",
       "count   3.000000\n",
       "mean   38.333333\n",
       "std    18.230012\n",
       "min    22.000000\n",
       "25%    28.500000\n",
       "50%    35.000000\n",
       "75%    46.500000\n",
       "max    58.000000"
      ]
     },
     "execution_count": 11,
     "metadata": {},
     "output_type": "execute_result"
    }
   ],
   "source": [
    "titanic_passengers_dataframe.describe()"
   ]
  },
  {
   "cell_type": "markdown",
   "id": "05047e01",
   "metadata": {},
   "source": [
    "We can also directly make a series."
   ]
  },
  {
   "cell_type": "code",
   "execution_count": 13,
   "id": "55eea08c",
   "metadata": {},
   "outputs": [
    {
     "data": {
      "text/plain": [
       "3"
      ]
     },
     "execution_count": 13,
     "metadata": {},
     "output_type": "execute_result"
    }
   ],
   "source": [
    "guest_class = pd.Series([1, 2, 3], name=\"guest_class\")\n",
    "guest_class.max()"
   ]
  }
 ],
 "metadata": {
  "kernelspec": {
   "display_name": "Python 3 (ipykernel)",
   "language": "python",
   "name": "python3"
  },
  "language_info": {
   "codemirror_mode": {
    "name": "ipython",
    "version": 3
   },
   "file_extension": ".py",
   "mimetype": "text/x-python",
   "name": "python",
   "nbconvert_exporter": "python",
   "pygments_lexer": "ipython3",
   "version": "3.8.10"
  }
 },
 "nbformat": 4,
 "nbformat_minor": 5
}
