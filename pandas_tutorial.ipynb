{
 "cells": [
  {
   "cell_type": "markdown",
   "id": "9a07f217",
   "metadata": {},
   "source": [
    "# pandas tutorial\n",
    "https://pandas.pydata.org/docs/getting_started/intro_tutorials/index.html"
   ]
  },
  {
   "cell_type": "markdown",
   "id": "2099ea79",
   "metadata": {},
   "source": [
    "# 01 pandas Data Structures"
   ]
  },
  {
   "cell_type": "code",
   "execution_count": null,
   "id": "641858f7",
   "metadata": {
    "scrolled": true
   },
   "outputs": [],
   "source": [
    "import pandas as pd"
   ]
  },
  {
   "cell_type": "markdown",
   "id": "2c4d38e5",
   "metadata": {},
   "source": [
    "### DataFrame\n",
    "A table of data is stored as a pandas DataFrame\n",
    "Each column in a DataFrame is a Series"
   ]
  },
  {
   "cell_type": "code",
   "execution_count": null,
   "id": "1e7d0813",
   "metadata": {},
   "outputs": [],
   "source": [
    "titanic_passengers_dictionary = {\n",
    "    \"Name\": [\n",
    "        \"Braund, Mr. Owen Harris\",\n",
    "        \"Allen, Mr. William Henry\",\n",
    "        \"Bonnell, Miss. Elizabeth\",\n",
    "    ],\n",
    "    \"Age\": [22, 35, 58],\n",
    "    \"Sex\": [\"male\", \"male\", \"female\"],\n",
    "}\n",
    "\n",
    "titanic_passengers_dataframe = pd.DataFrame(titanic_passengers_dictionary)"
   ]
  },
  {
   "cell_type": "markdown",
   "id": "05047e01",
   "metadata": {},
   "source": [
    "### Series\n",
    "A series is a one dimensional, labeled, homogeneously-typed array."
   ]
  },
  {
   "cell_type": "code",
   "execution_count": null,
   "id": "55eea08c",
   "metadata": {},
   "outputs": [],
   "source": [
    "guest_class = pd.Series([1, 2, 3], name=\"guest_class\")\n",
    "guest_class.max()"
   ]
  },
  {
   "cell_type": "markdown",
   "id": "81e3c06e",
   "metadata": {},
   "source": [
    "When selecting a single column of a pandas DataFrame, the result is a pandas Series."
   ]
  },
  {
   "cell_type": "code",
   "execution_count": null,
   "id": "5814c6fa",
   "metadata": {
    "scrolled": true
   },
   "outputs": [],
   "source": [
    "titanic_passengers_dataframe[\"Name\"]"
   ]
  },
  {
   "cell_type": "markdown",
   "id": "4d06d435",
   "metadata": {},
   "source": [
    "### Methods\n",
    "You can do things by applying a method to a DataFrame or Series\n",
    "\n",
    "\n",
    "As illustrated by the max() method, you can do things with a DataFrame or Series. pandas provides a lot of functionalities, each of them a method you can apply to a DataFrame or Series. As methods are functions, do not forget to use parentheses ()."
   ]
  },
  {
   "cell_type": "code",
   "execution_count": null,
   "id": "af14d640",
   "metadata": {},
   "outputs": [],
   "source": [
    "titanic_passengers_dataframe[\"Age\"].max()"
   ]
  },
  {
   "cell_type": "code",
   "execution_count": null,
   "id": "03eb3ced",
   "metadata": {},
   "outputs": [],
   "source": [
    "titanic_passengers_dataframe.describe()"
   ]
  },
  {
   "cell_type": "markdown",
   "id": "07b95ba7",
   "metadata": {},
   "source": [
    "# 02 Reading and Writing Data\n",
    "\n",
    "Getting data in to pandas from many different file formats or data sources is supported by read_* functions.\n",
    "Exporting data out of pandas is provided by different to_*methods."
   ]
  },
  {
   "cell_type": "code",
   "execution_count": null,
   "id": "2ca7606b",
   "metadata": {},
   "outputs": [],
   "source": [
    "titanic_data = pd.read_csv(\"data/titanic.csv\")\n",
    "titanic_data.head(10)"
   ]
  },
  {
   "cell_type": "markdown",
   "id": "a1761d6b",
   "metadata": {},
   "source": [
    "### Attributes\n",
    "dtypes is an attribute of a DataFrame and Series. Attributes of DataFrame or Series do not need brackets. Attributes represent a characteristic of a DataFrame/Series, whereas a method (which requires brackets) do something with the DataFrame/Series"
   ]
  },
  {
   "cell_type": "code",
   "execution_count": null,
   "id": "3857158e",
   "metadata": {},
   "outputs": [],
   "source": [
    "titanic_data.dtypes"
   ]
  },
  {
   "cell_type": "code",
   "execution_count": null,
   "id": "a448102e",
   "metadata": {},
   "outputs": [],
   "source": [
    "titanic_data.info()"
   ]
  },
  {
   "cell_type": "markdown",
   "id": "c7cd56d7",
   "metadata": {},
   "source": [
    "# 03 DataFrame Subsets"
   ]
  },
  {
   "cell_type": "code",
   "execution_count": null,
   "id": "93024e39",
   "metadata": {},
   "outputs": [],
   "source": [
    "ages = titanic_data[\"Age\"]\n",
    "ages.head()"
   ]
  },
  {
   "cell_type": "code",
   "execution_count": null,
   "id": "b235f1ba",
   "metadata": {},
   "outputs": [],
   "source": [
    "type(titanic_data[\"Age\"])"
   ]
  },
  {
   "cell_type": "code",
   "execution_count": null,
   "id": "39b7e2a3",
   "metadata": {},
   "outputs": [],
   "source": [
    "titanic_data[\"Age\"].shape"
   ]
  },
  {
   "cell_type": "code",
   "execution_count": null,
   "id": "c72896a3",
   "metadata": {},
   "outputs": [],
   "source": []
  }
 ],
 "metadata": {
  "kernelspec": {
   "display_name": "Python 3 (ipykernel)",
   "language": "python",
   "name": "python3"
  },
  "language_info": {
   "codemirror_mode": {
    "name": "ipython",
    "version": 3
   },
   "file_extension": ".py",
   "mimetype": "text/x-python",
   "name": "python",
   "nbconvert_exporter": "python",
   "pygments_lexer": "ipython3",
   "version": "3.8.10"
  }
 },
 "nbformat": 4,
 "nbformat_minor": 5
}
